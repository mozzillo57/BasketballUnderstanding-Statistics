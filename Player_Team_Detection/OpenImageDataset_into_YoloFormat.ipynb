{
  "nbformat": 4,
  "nbformat_minor": 0,
  "metadata": {
    "colab": {
      "name": "OpenImageDataset_into_YoloFormat.ipynb",
      "provenance": []
    },
    "kernelspec": {
      "name": "python3",
      "display_name": "Python 3"
    },
    "language_info": {
      "name": "python"
    }
  },
  "cells": [
    {
      "cell_type": "code",
      "metadata": {
        "id": "TixKhAhsnaz3"
      },
      "source": [
        "!pip install fiftyone"
      ],
      "execution_count": null,
      "outputs": []
    },
    {
      "cell_type": "code",
      "metadata": {
        "id": "N4d8wIKbUXK4"
      },
      "source": [
        "import fiftyone as fo\n",
        "\n",
        "nuovo_dataset = fo.zoo.load_zoo_dataset(\n",
        "              \"open-images-v6\",\n",
        "            classes=[\"Person\", \"Human body\"],\n",
        "            label_types=[\"detections\", \"segmentations\"],\n",
        "            drop_existing_dataset=True,\n",
        "            max_samples=1800\n",
        "          )\n",
        "nuovo_dataset.export(\n",
        "    export_dir=\"/content/YoloDataset\",\n",
        "    dataset_type=fo.types.YOLOv5Dataset\n",
        ")"
      ],
      "execution_count": null,
      "outputs": []
    },
    {
      "cell_type": "code",
      "metadata": {
        "id": "G_BXSb082TPr"
      },
      "source": [
        "!zip -r /content/dataset.zip /content/YoloDataset"
      ],
      "execution_count": null,
      "outputs": []
    },
    {
      "cell_type": "code",
      "metadata": {
        "id": "_bGC7s_F2YNb"
      },
      "source": [
        "from google.colab import files\n",
        "files.download(\"/content/dataset.zip\")"
      ],
      "execution_count": null,
      "outputs": []
    },
    {
      "cell_type": "code",
      "metadata": {
        "id": "3qgPLUZvXWTh"
      },
      "source": [
        ""
      ],
      "execution_count": null,
      "outputs": []
    }
  ]
}